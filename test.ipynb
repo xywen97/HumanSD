{
 "cells": [
  {
   "cell_type": "code",
   "execution_count": 4,
   "metadata": {},
   "outputs": [
    {
     "name": "stdout",
     "output_type": "stream",
     "text": [
      "['hello']\n",
      "[12]\n",
      "hello world\n"
     ]
    }
   ],
   "source": [
    "a = {\"name\": [\"hello\"], \"age\": [12]}\n",
    "\n",
    "def test(name:list = None, age: list = None):\n",
    "    print(name)\n",
    "    print(age)\n",
    "    print(\"hello world\")\n",
    "\n",
    "test(**a)"
   ]
  },
  {
   "cell_type": "code",
   "execution_count": 4,
   "metadata": {},
   "outputs": [],
   "source": [
    "from PIL import Image, ImageDraw, ImageFont\n",
    "import numpy as np\n",
    "import cv2"
   ]
  },
  {
   "cell_type": "code",
   "execution_count": 19,
   "metadata": {},
   "outputs": [
    {
     "name": "stdout",
     "output_type": "stream",
     "text": [
      "40\n"
     ]
    },
    {
     "data": {
      "image/png": "[encoded data removed]",
      "text/plain": [
       "<PIL.Image.Image image mode=RGB size=256x256>"
      ]
     },
     "metadata": {},
     "output_type": "display_data"
    },
    {
     "name": "stdout",
     "output_type": "stream",
     "text": [
      "40\n"
     ]
    },
    {
     "data": {
      "image/png": "[encoded data removed]",
      "text/plain": [
       "<PIL.Image.Image image mode=RGB size=256x256>"
      ]
     },
     "metadata": {},
     "output_type": "display_data"
    }
   ],
   "source": [
    "def log_txt_as_img(wh, xc, size=10):\n",
    "    # wh a tuple of (width, height)\n",
    "    # xc a list of captions to plot\n",
    "    b = len(xc)\n",
    "    txts = list()\n",
    "    for bi in range(b):\n",
    "        txt = Image.new(\"RGB\", wh, color=\"white\")\n",
    "        draw = ImageDraw.Draw(txt)\n",
    "        font = ImageFont.truetype('data/DejaVuSans.ttf', size=size)\n",
    "        nc = int(40 * (wh[0] / 256))\n",
    "        print(nc)\n",
    "        lines = \"\\n\".join(xc[bi][start:start + nc] for start in range(0, len(xc[bi]), nc))\n",
    "\n",
    "        try:\n",
    "            draw.text((10, 10), lines, fill=\"black\", font=font)\n",
    "        except UnicodeEncodeError:\n",
    "            print(\"Cant encode string for logging. Skipping.\")\n",
    "\n",
    "        txt.show()\n",
    "        # txt = np.array(txt).transpose(2, 0, 1) / 127.5 - 1.0\n",
    "        # txt = Image.fromarray(np.uint8((txt + 1.0) * 127.5))\n",
    "        # txt.show()\n",
    "        # cv2.imshow('txt', txt.transpose(1, 2, 0))\n",
    "\n",
    "    #     txt = np.array(txt).transpose(2, 0, 1) / 127.5 - 1.0\n",
    "    #     txts.append(txt)\n",
    "    # txts = np.stack(txts)\n",
    "    # txts = torch.tensor(txts)\n",
    "    # return txts\n",
    "\n",
    "log_txt_as_img((256, 256), ['hello worldhello worldhello worldhello worldhello worldhello worldhello worldhello worldhello world', 'hello world'])"
   ]
  }
 ],
 "metadata": {
  "kernelspec": {
   "display_name": "humansd3.9",
   "language": "python",
   "name": "python3"
  },
  "language_info": {
   "codemirror_mode": {
    "name": "ipython",
    "version": 3
   },
   "file_extension": ".py",
   "mimetype": "text/x-python",
   "name": "python",
   "nbconvert_exporter": "python",
   "pygments_lexer": "ipython3",
   "version": "3.9.17"
  },
  "orig_nbformat": 4
 },
 "nbformat": 4,
 "nbformat_minor": 2
}
